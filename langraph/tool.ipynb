{
 "cells": [
  {
   "cell_type": "code",
   "execution_count": 20,
   "id": "8001c68a",
   "metadata": {},
   "outputs": [],
   "source": [
    "from dotenv import load_dotenv\n",
    "from langchain_community.utilities import GoogleSerperAPIWrapper\n",
    "from langchain_core.tools import tool\n",
    "from langchain.agents import Tool\n",
    "import sendgrid\n",
    "import os\n",
    "from sendgrid.helpers.mail import To, Email, Content,Mail\n"
   ]
  },
  {
   "cell_type": "code",
   "execution_count": 2,
   "id": "42f93d50",
   "metadata": {},
   "outputs": [
    {
     "data": {
      "text/plain": [
       "True"
      ]
     },
     "execution_count": 2,
     "metadata": {},
     "output_type": "execute_result"
    }
   ],
   "source": [
    "load_dotenv(override=True)"
   ]
  },
  {
   "cell_type": "code",
   "execution_count": 4,
   "id": "8e510c49",
   "metadata": {},
   "outputs": [
    {
     "data": {
      "text/plain": [
       "\"The current legislative capital of Sri Lanka is Sri Jayawardenepura Kotte and the executive and judicial capital is Colombo. Over the course of the island's ... Sri Jayawardenepura Kotte is the legislative capital of Sri Lanka, while the largest city, Colombo, is the administrative and judicial capital which is the ... Colombo, which emerged as the main urban center during British rule, remains the executive and judicial capital of Sri Lanka; Sri Jayewardenepura Kotte, a ... Colombo, city, executive and judicial capital of Sri Lanka. (Sri Jayewardenepura Kotte, a Colombo suburb, is the legislative capital.) Situated on the west ... Colombo is just the financial capital of Sri Lanka, but Sri Jayawardanapura Kotte is the actual capital of Sri Lanka. But SJK also located in ... Sri Lanka's capital is Sri Jayawardenepura Kotte (Pronounced sree-lan-kah and sree jai-yah-war-den-a-poora koh-tey) Sri Jayawardenapura Kotte, commonly referred to as Kotte, is the governmental capital of Sri Lanka, situated approximately 10 kilometers from Colombo The correct answer is Sri Jayewardenepura. Key Points. Sri Lanka is an island country in South Asia whose official capital is Sri Jayewardenepura Kotte. Sri Jayawardenepura is the administrative capital of Sri Lanka, and more government institutions continue to be relocated to the city from Colombo. This video shows you How to Pronounce Sri Jayawardenapura (Capital of Sri Lanka), pronunciation guide. Learn MORE CONFUSING NAMES/WORDS: ...\""
      ]
     },
     "execution_count": 4,
     "metadata": {},
     "output_type": "execute_result"
    }
   ],
   "source": [
    "search = GoogleSerperAPIWrapper()\n",
    "\n",
    "search.run(\"What is the capital of Sri Lanka\")"
   ]
  },
  {
   "cell_type": "code",
   "execution_count": 8,
   "id": "c5cb0d66",
   "metadata": {},
   "outputs": [
    {
     "data": {
      "text/plain": [
       "'Anura Kumara Dissanayake: President of Sri Lanka. Anura Kumara Dissanayake, commonly referred to by his initials AKD, is a Sri Lankan politician who has been the tenth and current president of Sri Lanka since 2024. Anura Kumara Dissanayake Born: 1968 (age 56 years), Galewela, Sri Lanka. Anura Kumara Dissanayake Organization founded: National People\\'s Power. Anura Kumara Dissanayake Previous campaign: 2024 Sri Lankan presidential election. Anura Kumara Dissanayake Office: President of Sri Lanka. Anura Kumara Dissanayake Party: National People\\'s Power. Anura Kumara Dissanayake Presidential term: September 23, 2024 –. Anura Kumara Dissanayake Previous offices: Minister of Agriculture, Land, Livestock, Irrigation, Fisheries and Aquatic Resources of Sri Lanka (2024–2024), Minister of Energy of Sri Lanka (2024–2024), Chief Opposition Whip, Sri Lanka (2015–2018), and more. Anura Kumara Dissanayake is the 10th and current president, having assumed office on 23 September 2024, after being declared the winner of the 2024 presidential ... Anura Kumara Dissanayake (born 24 November 1968), commonly referred to by his initials AKD, is a Sri Lankan politician who has been the tenth and current ... Anura Kumara Dissanayake is widely regarded as one of the most dynamic and prominent political leaders to emerge in Sri Lanka. Left-leaning politician Anura Kumara Dissanayake has been elected as Sri Lanka\\'s next president after he won the debt-ridden country\\'s first ... The party of Sri Lanka\\'s new Marxist-leaning President Anura Kumara Dissanayake has won a two-thirds majority in parliament. The Hindu\\'s profile on Marxist leader Anura Kumara Dissanayake, the winner of the Sri Lankan Presidential election 2024, defeating incumbent ... On September 21, Sri Lankans elected the left-leaning Anura Kumara Dissanayake over established politicians including incumbent President Ranil ... Who is Anura Kumara Dissanayake, the new President of Sri Lanka? 15K views 9 months ago #anurakumaradissanayake #akd #srilanka Sri Lanka\\'s leftist leader Anura Kumara Dissanayake took office as president on Monday, promising change in the island nation long led by ... Sri Lanka\\'s new president Anura Kumara Dissanayake has been sworn into office, promising \"clean\" politics as the country recovers from its ...'"
      ]
     },
     "execution_count": 8,
     "metadata": {},
     "output_type": "execute_result"
    }
   ],
   "source": [
    "google_search_tool = Tool(\n",
    "    name= \"Web search tool\",\n",
    "    func= search.run,\n",
    "    description= \"This tool is useful for making google search\"\n",
    ")\n",
    "\n",
    "google_search_tool.invoke(\"Who is the current president of Sri Lanka\")"
   ]
  },
  {
   "cell_type": "markdown",
   "id": "88eab618",
   "metadata": {},
   "source": [
    "Building Custome tools\n"
   ]
  },
  {
   "cell_type": "code",
   "execution_count": null,
   "id": "546370b6",
   "metadata": {},
   "outputs": [
    {
     "ename": "ValueError",
     "evalue": "Function must have a docstring if description not provided.",
     "output_type": "error",
     "traceback": [
      "\u001b[31m---------------------------------------------------------------------------\u001b[39m",
      "\u001b[31mValueError\u001b[39m                                Traceback (most recent call last)",
      "\u001b[36mCell\u001b[39m\u001b[36m \u001b[39m\u001b[32mIn[21]\u001b[39m\u001b[32m, line 1\u001b[39m\n\u001b[32m----> \u001b[39m\u001b[32m1\u001b[39m \u001b[38;5;129;43m@tool\u001b[39;49m\n\u001b[32m      2\u001b[39m \u001b[38;5;28;43;01mdef\u001b[39;49;00m\u001b[38;5;250;43m \u001b[39;49m\u001b[34;43msend_email\u001b[39;49m\u001b[43m(\u001b[49m\u001b[43msubjectContent\u001b[49m\u001b[43m:\u001b[49m\u001b[38;5;28;43mstr\u001b[39;49m\u001b[43m,\u001b[49m\u001b[43mdescription\u001b[49m\u001b[43m:\u001b[49m\u001b[38;5;28;43mstr\u001b[39;49m\u001b[43m)\u001b[49m\u001b[43m:\u001b[49m\n\u001b[32m      3\u001b[39m \u001b[43m    \u001b[49m\u001b[43msg\u001b[49m\u001b[43m \u001b[49m\u001b[43m=\u001b[49m\u001b[43m \u001b[49m\u001b[43msendgrid\u001b[49m\u001b[43m.\u001b[49m\u001b[43mSendGridAPIClient\u001b[49m\u001b[43m(\u001b[49m\u001b[43mapi_key\u001b[49m\u001b[43m=\u001b[49m\u001b[43mos\u001b[49m\u001b[43m.\u001b[49m\u001b[43menviron\u001b[49m\u001b[43m.\u001b[49m\u001b[43mget\u001b[49m\u001b[43m(\u001b[49m\u001b[33;43m'\u001b[39;49m\u001b[33;43mSENDGRID_API_KEY\u001b[39;49m\u001b[33;43m'\u001b[39;49m\u001b[43m)\u001b[49m\u001b[43m)\u001b[49m\n\u001b[32m      4\u001b[39m \u001b[43m    \u001b[49m\u001b[43mfrom_email\u001b[49m\u001b[43m \u001b[49m\u001b[43m=\u001b[49m\u001b[43m \u001b[49m\u001b[43mEmail\u001b[49m\u001b[43m(\u001b[49m\u001b[33;43m\"\u001b[39;49m\u001b[33;43mpharshana719@gmail.com\u001b[39;49m\u001b[33;43m\"\u001b[39;49m\u001b[43m)\u001b[49m\n",
      "\u001b[36mFile \u001b[39m\u001b[32md:\\LLM_Engineering\\My_Projects\\venv\\Lib\\site-packages\\langchain_core\\tools\\convert.py:319\u001b[39m, in \u001b[36mtool\u001b[39m\u001b[34m(name_or_callable, runnable, description, return_direct, args_schema, infer_schema, response_format, parse_docstring, error_on_invalid_docstring, *args)\u001b[39m\n\u001b[32m    313\u001b[39m \u001b[38;5;28;01mif\u001b[39;00m name_or_callable \u001b[38;5;129;01mis\u001b[39;00m \u001b[38;5;129;01mnot\u001b[39;00m \u001b[38;5;28;01mNone\u001b[39;00m:\n\u001b[32m    314\u001b[39m     \u001b[38;5;28;01mif\u001b[39;00m \u001b[38;5;28mcallable\u001b[39m(name_or_callable) \u001b[38;5;129;01mand\u001b[39;00m \u001b[38;5;28mhasattr\u001b[39m(name_or_callable, \u001b[33m\"\u001b[39m\u001b[33m__name__\u001b[39m\u001b[33m\"\u001b[39m):\n\u001b[32m    315\u001b[39m         \u001b[38;5;66;03m# Used as a decorator without parameters\u001b[39;00m\n\u001b[32m    316\u001b[39m         \u001b[38;5;66;03m# @tool\u001b[39;00m\n\u001b[32m    317\u001b[39m         \u001b[38;5;66;03m# def my_tool():\u001b[39;00m\n\u001b[32m    318\u001b[39m         \u001b[38;5;66;03m#    pass\u001b[39;00m\n\u001b[32m--> \u001b[39m\u001b[32m319\u001b[39m         \u001b[38;5;28;01mreturn\u001b[39;00m \u001b[43m_create_tool_factory\u001b[49m\u001b[43m(\u001b[49m\u001b[43mname_or_callable\u001b[49m\u001b[43m.\u001b[49m\u001b[34;43m__name__\u001b[39;49m\u001b[43m)\u001b[49m\u001b[43m(\u001b[49m\u001b[43mname_or_callable\u001b[49m\u001b[43m)\u001b[49m\n\u001b[32m    320\u001b[39m     \u001b[38;5;28;01mif\u001b[39;00m \u001b[38;5;28misinstance\u001b[39m(name_or_callable, \u001b[38;5;28mstr\u001b[39m):\n\u001b[32m    321\u001b[39m         \u001b[38;5;66;03m# Used with a new name for the tool\u001b[39;00m\n\u001b[32m    322\u001b[39m         \u001b[38;5;66;03m# @tool(\"search\")\u001b[39;00m\n\u001b[32m   (...)\u001b[39m\u001b[32m    329\u001b[39m         \u001b[38;5;66;03m# def my_tool():\u001b[39;00m\n\u001b[32m    330\u001b[39m         \u001b[38;5;66;03m#    pass\u001b[39;00m\n\u001b[32m    331\u001b[39m         \u001b[38;5;28;01mreturn\u001b[39;00m _create_tool_factory(name_or_callable)\n",
      "\u001b[36mFile \u001b[39m\u001b[32md:\\LLM_Engineering\\My_Projects\\venv\\Lib\\site-packages\\langchain_core\\tools\\convert.py:264\u001b[39m, in \u001b[36mtool.<locals>._create_tool_factory.<locals>._tool_factory\u001b[39m\u001b[34m(dec_func)\u001b[39m\n\u001b[32m    261\u001b[39m     schema = args_schema\n\u001b[32m    263\u001b[39m \u001b[38;5;28;01mif\u001b[39;00m infer_schema \u001b[38;5;129;01mor\u001b[39;00m args_schema \u001b[38;5;129;01mis\u001b[39;00m \u001b[38;5;129;01mnot\u001b[39;00m \u001b[38;5;28;01mNone\u001b[39;00m:\n\u001b[32m--> \u001b[39m\u001b[32m264\u001b[39m     \u001b[38;5;28;01mreturn\u001b[39;00m \u001b[43mStructuredTool\u001b[49m\u001b[43m.\u001b[49m\u001b[43mfrom_function\u001b[49m\u001b[43m(\u001b[49m\n\u001b[32m    265\u001b[39m \u001b[43m        \u001b[49m\u001b[43mfunc\u001b[49m\u001b[43m,\u001b[49m\n\u001b[32m    266\u001b[39m \u001b[43m        \u001b[49m\u001b[43mcoroutine\u001b[49m\u001b[43m,\u001b[49m\n\u001b[32m    267\u001b[39m \u001b[43m        \u001b[49m\u001b[43mname\u001b[49m\u001b[43m=\u001b[49m\u001b[43mtool_name\u001b[49m\u001b[43m,\u001b[49m\n\u001b[32m    268\u001b[39m \u001b[43m        \u001b[49m\u001b[43mdescription\u001b[49m\u001b[43m=\u001b[49m\u001b[43mtool_description\u001b[49m\u001b[43m,\u001b[49m\n\u001b[32m    269\u001b[39m \u001b[43m        \u001b[49m\u001b[43mreturn_direct\u001b[49m\u001b[43m=\u001b[49m\u001b[43mreturn_direct\u001b[49m\u001b[43m,\u001b[49m\n\u001b[32m    270\u001b[39m \u001b[43m        \u001b[49m\u001b[43margs_schema\u001b[49m\u001b[43m=\u001b[49m\u001b[43mschema\u001b[49m\u001b[43m,\u001b[49m\n\u001b[32m    271\u001b[39m \u001b[43m        \u001b[49m\u001b[43minfer_schema\u001b[49m\u001b[43m=\u001b[49m\u001b[43minfer_schema\u001b[49m\u001b[43m,\u001b[49m\n\u001b[32m    272\u001b[39m \u001b[43m        \u001b[49m\u001b[43mresponse_format\u001b[49m\u001b[43m=\u001b[49m\u001b[43mresponse_format\u001b[49m\u001b[43m,\u001b[49m\n\u001b[32m    273\u001b[39m \u001b[43m        \u001b[49m\u001b[43mparse_docstring\u001b[49m\u001b[43m=\u001b[49m\u001b[43mparse_docstring\u001b[49m\u001b[43m,\u001b[49m\n\u001b[32m    274\u001b[39m \u001b[43m        \u001b[49m\u001b[43merror_on_invalid_docstring\u001b[49m\u001b[43m=\u001b[49m\u001b[43merror_on_invalid_docstring\u001b[49m\u001b[43m,\u001b[49m\n\u001b[32m    275\u001b[39m \u001b[43m    \u001b[49m\u001b[43m)\u001b[49m\n\u001b[32m    276\u001b[39m \u001b[38;5;66;03m# If someone doesn't want a schema applied, we must treat it as\u001b[39;00m\n\u001b[32m    277\u001b[39m \u001b[38;5;66;03m# a simple string->string function\u001b[39;00m\n\u001b[32m    278\u001b[39m \u001b[38;5;28;01mif\u001b[39;00m dec_func.\u001b[34m__doc__\u001b[39m \u001b[38;5;129;01mis\u001b[39;00m \u001b[38;5;28;01mNone\u001b[39;00m:\n",
      "\u001b[36mFile \u001b[39m\u001b[32md:\\LLM_Engineering\\My_Projects\\venv\\Lib\\site-packages\\langchain_core\\tools\\structured.py:218\u001b[39m, in \u001b[36mStructuredTool.from_function\u001b[39m\u001b[34m(cls, func, coroutine, name, description, return_direct, args_schema, infer_schema, response_format, parse_docstring, error_on_invalid_docstring, **kwargs)\u001b[39m\n\u001b[32m    216\u001b[39m \u001b[38;5;28;01mif\u001b[39;00m description_ \u001b[38;5;129;01mis\u001b[39;00m \u001b[38;5;28;01mNone\u001b[39;00m:\n\u001b[32m    217\u001b[39m     msg = \u001b[33m\"\u001b[39m\u001b[33mFunction must have a docstring if description not provided.\u001b[39m\u001b[33m\"\u001b[39m\n\u001b[32m--> \u001b[39m\u001b[32m218\u001b[39m     \u001b[38;5;28;01mraise\u001b[39;00m \u001b[38;5;167;01mValueError\u001b[39;00m(msg)\n\u001b[32m    219\u001b[39m \u001b[38;5;28;01mif\u001b[39;00m description \u001b[38;5;129;01mis\u001b[39;00m \u001b[38;5;28;01mNone\u001b[39;00m:\n\u001b[32m    220\u001b[39m     \u001b[38;5;66;03m# Only apply if using the function's docstring\u001b[39;00m\n\u001b[32m    221\u001b[39m     description_ = textwrap.dedent(description_).strip()\n",
      "\u001b[31mValueError\u001b[39m: Function must have a docstring if description not provided."
     ]
    }
   ],
   "source": [
    "@tool\n",
    "def send_email(subjectContent:str,description:str):\n",
    "    \"\"\"Send an email using SendGrid with a subject and HTML content.\"\"\"\n",
    "    sg = sendgrid.SendGridAPIClient(api_key=os.environ.get('SENDGRID_API_KEY'))\n",
    "    from_email = Email(\"pharshana719@gmail.com\")\n",
    "    to_email = To(\"kasunkalharaweather@gmail.com\")\n",
    "    subject = subjectContent\n",
    "    content = Content(\"text/html\",description)\n",
    "    mail = Mail(from_email,to_email,subject,content)\n",
    "    response = sg.client.mail.send.post(request_body= mail.get())\n",
    "    print(response.status_code)\n",
    "    print(response.body)\n",
    "\n",
    "\n",
    "\n",
    "\n",
    "send_email.invoke({\n",
    "    \"subjectContent\": \"Request for service letter\",\n",
    "    \"description\": \"This letter is to request a service letter\"\n",
    "})\n"
   ]
  },
  {
   "cell_type": "code",
   "execution_count": null,
   "id": "bd2545d7",
   "metadata": {},
   "outputs": [],
   "source": []
  }
 ],
 "metadata": {
  "kernelspec": {
   "display_name": "venv",
   "language": "python",
   "name": "python3"
  },
  "language_info": {
   "codemirror_mode": {
    "name": "ipython",
    "version": 3
   },
   "file_extension": ".py",
   "mimetype": "text/x-python",
   "name": "python",
   "nbconvert_exporter": "python",
   "pygments_lexer": "ipython3",
   "version": "3.12.1"
  }
 },
 "nbformat": 4,
 "nbformat_minor": 5
}
