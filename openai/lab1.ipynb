{
 "cells": [
  {
   "cell_type": "code",
   "execution_count": 13,
   "metadata": {},
   "outputs": [],
   "source": [
    "from dotenv import load_dotenv\n",
    "from agents import Agent, Runner, trace, function_tool, OpenAIChatCompletionsModel, input_guardrail, GuardrailFunctionOutput\n",
    "import asyncio\n",
    "import os\n",
    "import sendgrid\n",
    "from sendgrid.helpers.mail import Mail, Email, To, Content\n",
    "from typing import Dict\n",
    "from pydantic import BaseModel\n",
    "from openai import AsyncOpenAI\n",
    " \n",
    "\n",
    "\n",
    "\n",
    "\n"
   ]
  },
  {
   "cell_type": "code",
   "execution_count": null,
   "metadata": {},
   "outputs": [],
   "source": []
  },
  {
   "cell_type": "code",
   "execution_count": 14,
   "metadata": {},
   "outputs": [
    {
     "data": {
      "text/plain": [
       "True"
      ]
     },
     "execution_count": 14,
     "metadata": {},
     "output_type": "execute_result"
    }
   ],
   "source": [
    "load_dotenv(override=True)"
   ]
  },
  {
   "cell_type": "code",
   "execution_count": 15,
   "metadata": {},
   "outputs": [],
   "source": [
    "instructions_1  = \"\"\"Your are a sales agent working for BetaLaunch.\\n\n",
    "It is a company which is oriented at providing software solutions for businesses such as web applications and mobile applications\\n\n",
    "Your write in a professional and serious tone\\n\n",
    "\"\"\"\n",
    "\n",
    "instructions_2 = \"\"\"Your are a sales agent working for BetaLaunch.\\n\n",
    "It is a company which is oriented at providing software solutions for businesses such as web applications and mobile applications\\n\n",
    "Your write in a engaging and responsive tone\\n\n",
    "\"\"\"\n",
    "\n",
    "instructions_3 = \"\"\"Your are a sales agent working for BetaLaunch.\\n\n",
    "It is a company which is oriented at providing software solutions for businesses such as web applications and mobile applications\\n\n",
    "Your write in a concise and detailed oriented tone. \\n\n",
    "\"\"\"\n"
   ]
  },
  {
   "cell_type": "code",
   "execution_count": 16,
   "metadata": {},
   "outputs": [],
   "source": [
    "sales_agent_1 = Agent(name=\"Professional_sales_agent\", instructions=instructions_1,)\n",
    "sales_agent_2 = Agent(name=\"Engaging_sales_agent\", instructions=instructions_2)\n",
    "sales_agent_3 = Agent(name=\"details_oriented_sales_agent\", instructions=instructions_3)"
   ]
  },
  {
   "cell_type": "code",
   "execution_count": 17,
   "metadata": {},
   "outputs": [],
   "source": [
    "gemini_api_key = os.getenv('GEMINI_API_KEY')\n",
    "GEMINI_BASE_URL = \"https://generativelanguage.googleapis.com/v1beta/openai/\"\n",
    "\n",
    "gemini_client =  AsyncOpenAI(base_url=GEMINI_BASE_URL, api_key=gemini_api_key)\n",
    "\n",
    "gemini_model = OpenAIChatCompletionsModel(model='gemini-2.0-flash',openai_client=gemini_client)\n"
   ]
  },
  {
   "cell_type": "code",
   "execution_count": 18,
   "metadata": {},
   "outputs": [],
   "source": [
    "message = \"Write a cold email\"\n",
    "\n",
    "with trace(\"Execution of multiple agents\"):\n",
    "    results = await asyncio.gather(\n",
    "        Runner.run(sales_agent_1, message),\n",
    "        Runner.run(sales_agent_2, message),\n",
    "        Runner.run(sales_agent_3, message),\n",
    "    )\n",
    "    output = [result.final_output for result in results];\n"
   ]
  },
  {
   "cell_type": "code",
   "execution_count": 19,
   "metadata": {},
   "outputs": [],
   "source": [
    "evaluation_agent_instructions = f\"\"\"\n",
    " You act as an evaluation agent, who's job is to evaluate the array of provided emails and pick the best one that a user might reply.\\n\n",
    " Do not give any explanations, just reply with the selected email\\n\n",
    "\"\"\""
   ]
  },
  {
   "cell_type": "code",
   "execution_count": 20,
   "metadata": {},
   "outputs": [
    {
     "name": "stdout",
     "output_type": "stream",
     "text": [
      "\"Subject: Unlock New Potential with Cutting-Edge Software Solutions\n",
      "\n",
      "Hi [Recipient's Name],\n",
      "\n",
      "I hope this message finds you well! I'm [Your Name] from BetaLaunch, and I'm excited to introduce you to a world of innovative software solutions tailored to elevate your business.\n",
      "\n",
      "At BetaLaunch, we specialize in crafting top-notch web and mobile applications, designed to streamline operations and enhance user engagement. Whether you're looking to revamp your current system or build something entirely new, our team is here to bring your vision to life.\n",
      "\n",
      "Why partner with us?\n",
      "\n",
      "- **Customized Solutions:** We understand that every business is unique. Our solutions are tailored to meet your specific needs.\n",
      "- **Expert Team:** With a dedicated team of developers and designers, we ensure high-quality, robust applications.\n",
      "- **Seamless Integration:** Our applications integrate smoothly with existing systems, minimizing disruption.\n",
      "\n",
      "I’d love to discuss how we can help your business thrive. Are you available for a brief call or meeting this week?\n",
      "\n",
      "Looking forward to the possibility of working together!\n",
      "\n",
      "Best regards,\n",
      "\n",
      "[Your Full Name]  \n",
      "[Your Position]  \n",
      "BetaLaunch  \n",
      "[Your Phone Number]  \n",
      "[Your Email Address]\"\n"
     ]
    }
   ],
   "source": [
    "evaluation_agent = Agent(name=\"evaluation agnet\", instructions=evaluation_agent_instructions);\n",
    "\n",
    "evaluation_message =f\"The list of emails: \\\\n {output}\"\n",
    "\n",
    "evaluation_result = await Runner.run(evaluation_agent,evaluation_message )\n",
    "\n",
    "print(evaluation_result.final_output);\n",
    "\n",
    "\n"
   ]
  },
  {
   "cell_type": "code",
   "execution_count": 21,
   "metadata": {},
   "outputs": [],
   "source": [
    "@function_tool\n",
    "def send_email(body: str):\n",
    "    \"\"\"Send an email with the given body to a reepient\"\"\"\n",
    "    try:\n",
    "        sg = sendgrid.SendGridAPIClient(os.environ.get('SENDGRID_API_KEY'))\n",
    "        from_email = Email('pharshana719@gmail.com')\n",
    "        to_email = To('isankadatadownload@gmail.com')\n",
    "        content =  Content(\"text/plain\", body)\n",
    "        mail = Mail(from_email, to_email,\"Sales Email\", content).get()\n",
    "        response = sg.client.mail.send.post(request_body = mail)\n",
    "        return {\"Status\":\"Success\"}\n",
    "\n",
    "        \n",
    "    except Exception as e :\n",
    "        print(e.message)\n",
    "    "
   ]
  },
  {
   "cell_type": "code",
   "execution_count": 22,
   "metadata": {},
   "outputs": [
    {
     "data": {
      "text/plain": [
       "FunctionTool(name='send_email', description='Send an email with the given body to a reepient', params_json_schema={'properties': {'body': {'title': 'Body', 'type': 'string'}}, 'required': ['body'], 'title': 'send_email_args', 'type': 'object', 'additionalProperties': False}, on_invoke_tool=<function function_tool.<locals>._create_function_tool.<locals>._on_invoke_tool at 0x00000181E2E73C40>, strict_json_schema=True, is_enabled=True)"
      ]
     },
     "execution_count": 22,
     "metadata": {},
     "output_type": "execute_result"
    }
   ],
   "source": [
    "send_email"
   ]
  },
  {
   "cell_type": "code",
   "execution_count": 23,
   "metadata": {},
   "outputs": [],
   "source": [
    "Description = \"Write a cold email\"\n",
    "\n",
    "tool1 = sales_agent_1.as_tool(tool_name = \"Write_professional_emails\", tool_description= Description)\n",
    "tool2 = sales_agent_2.as_tool(tool_name = \"Write_user_engaging_emails\", tool_description=Description)\n",
    "tool3  = sales_agent_3.as_tool(tool_name = \"Write_details_oriented_emails\", tool_description=Description)"
   ]
  },
  {
   "cell_type": "code",
   "execution_count": 24,
   "metadata": {},
   "outputs": [
    {
     "data": {
      "text/plain": [
       "FunctionTool(name='Write_professional_emails', description='Write a cold email', params_json_schema={'properties': {'input': {'title': 'Input', 'type': 'string'}}, 'required': ['input'], 'title': 'Write_professional_emails_args', 'type': 'object', 'additionalProperties': False}, on_invoke_tool=<function function_tool.<locals>._create_function_tool.<locals>._on_invoke_tool at 0x00000181E0439300>, strict_json_schema=True, is_enabled=True)"
      ]
     },
     "execution_count": 24,
     "metadata": {},
     "output_type": "execute_result"
    }
   ],
   "source": [
    "tool1"
   ]
  },
  {
   "cell_type": "code",
   "execution_count": 25,
   "metadata": {},
   "outputs": [],
   "source": [
    "tools = [tool1, tool2,tool3, send_email]"
   ]
  },
  {
   "cell_type": "code",
   "execution_count": 26,
   "metadata": {},
   "outputs": [
    {
     "name": "stdout",
     "output_type": "stream",
     "text": [
      "RunResult:\n",
      "- Last agent: Agent(name=\"Sales Manger\", ...)\n",
      "- Final output (str):\n",
      "    I've successfully sent the cold sales email addressing the CEO. If you need any further assistance or adjustments, feel free to let me know!\n",
      "- 33 new item(s)\n",
      "- 7 raw response(s)\n",
      "- 0 input guardrail result(s)\n",
      "- 0 output guardrail result(s)\n",
      "(See `RunResult` for more details)\n"
     ]
    }
   ],
   "source": [
    "sales_manager_instructions = \"\"\"Your are are sales manager who's working for BetaLaunch. You use the tools given to generate cold sales emails\\n\n",
    "        You do not generate emails by yourself, instead you always use the tools\\n\n",
    "        You tries all the three types of email generating tools and pickup the best one by comparing the results of those three tools\\n \n",
    "        The you select the email sending tool which is send_email yo send the best email. Always remember you are only sending the best selected email\\n \n",
    "\n",
    " \"\"\"\n",
    "\n",
    "sales_manager = Agent(name=\"Sales Manger\", instructions=sales_manager_instructions, tools=tools, model=\"gpt-4o-mini\")\n",
    "\n",
    "\n",
    "message = \"Send a cold sales email addressed to 'Dear CEO'\"\n",
    "\n",
    "\n",
    "with trace(\"Sales manager\"):\n",
    "    manager_resulst = await Runner.run(sales_manager, message)\n",
    "    print(manager_resulst)\n",
    "\n"
   ]
  },
  {
   "cell_type": "code",
   "execution_count": 27,
   "metadata": {},
   "outputs": [],
   "source": [
    "@function_tool\n",
    "def send_html_email(subject: str, html_body:str) -> Dict[str, str] :\n",
    "    \"\"\"Send out sales emails with a give subet and formatted \"\"\"\n",
    "    sg = sendgrid.SendGridAPIClient(api_key= os.environ.get('SENDGRID_API_KEY'))\n",
    "    from_email = Email('pharshana719@gmail.com')\n",
    "    to_email = To('isankadatadownload@gmail.com')\n",
    "    content = Content(\"text/html\", html_body)\n",
    "    mail = Mail(from_email, to_email, subject, content).get()\n",
    "    response = sg.client.mail.send.post(request_body=mail)\n",
    "    return {\"status\":\"success\"}\n",
    "\n",
    "    "
   ]
  },
  {
   "cell_type": "code",
   "execution_count": 28,
   "metadata": {},
   "outputs": [],
   "source": [
    "\n",
    "subject_agent_instructions = \"\"\"Your are  capable of generating an appropriate subject for a given email message that the user is likely to response\"\"\"\n",
    "\n",
    "html_agent_instructions = \"\"\"Your are capable of converting a text email body in to a HTML email body\\n \n",
    "You are given a html body which might have some markdown and you need to convert it to an HTML email body with simple, clear, compelling layout and design.\n",
    "\"\"\"\n",
    "\n",
    "subject_agent = Agent(name= \"Email_Subject_Agent\",instructions=subject_agent_instructions)\n",
    "subject_tool = subject_agent.as_tool(tool_name=\"subject_writer\", tool_description=\"Write an appropriate subejct for the sales email\")\n",
    "\n",
    "html_agent = Agent(name=\"HTML_converter\", instructions=html_agent_instructions)\n",
    "html_tool = html_agent.as_tool(tool_name=\"HTML_converter_tool\",tool_description=\"Convert the text email body in to HTML formatted email body\")\n"
   ]
  },
  {
   "cell_type": "code",
   "execution_count": 29,
   "metadata": {},
   "outputs": [],
   "source": [
    "tools = [subject_tool, html_tool, send_html_email]"
   ]
  },
  {
   "cell_type": "code",
   "execution_count": 30,
   "metadata": {},
   "outputs": [],
   "source": [
    "instructions =\"You are an email formatter and sender. You receive the body of an email to be sent. \\\n",
    "You first use the subject_writer tool to write a subject for the email, then use the html_converter tool to convert the body to HTML. \\\n",
    "Finally, you use the send_html_email tool to send the email with the subject and HTML body.\"\n",
    "\n",
    "email_agent = Agent(name=\"Email_sender\",\n",
    "                     instructions=instructions,\n",
    "                     model=\"gpt-4o-mini\",\n",
    "                     tools=tools,\n",
    "                     handoff_description=\"Convert an email to HTML and send it\")"
   ]
  },
  {
   "cell_type": "code",
   "execution_count": 31,
   "metadata": {},
   "outputs": [],
   "source": [
    "sales_manager_instructions = \"\"\"You are a sales manager working for BetaLaunch. You use tools given to generate sales emails\\n \n",
    "You never generate emails by yourself, instead you use tools. You try all the three email generating tools and pick up the best response among them\\n \n",
    "You can use a tool more than once if a tool did not provide and appropriate email body. Then you select the best email body among them that a user will\n",
    "most likeyly to reply to.\\n After selecting the best email body you handoff to the Email Manager Agent to format and send the email. \n",
    "\n",
    "\"\"\"\n",
    "\n",
    "new_tools_list = [tool1, tool2, tool3]\n",
    "handoffs = [email_agent]\n",
    "\n",
    "new_sales_manager = Agent(\n",
    "    name=\"New_sales_manager\",\n",
    "    instructions=sales_manager_instructions,\n",
    "    tools=new_tools_list,\n",
    "    handoffs=handoffs,\n",
    "    model=\"gpt-4o-mini\"\n",
    ")\n",
    "message = \"Send out a cold sales email addressed to Dear CEO from Alice\"\n",
    "\n",
    "with trace(\"Automated SDR\"):\n",
    "    result = await Runner.run(new_sales_manager, message);"
   ]
  },
  {
   "cell_type": "code",
   "execution_count": 32,
   "metadata": {},
   "outputs": [],
   "source": [
    "class NameValidationOutput(BaseModel):\n",
    "    is_there_a_name: bool\n",
    "    name:str\n",
    "    "
   ]
  },
  {
   "cell_type": "code",
   "execution_count": 33,
   "metadata": {},
   "outputs": [],
   "source": [
    "guarail_agent = Agent(\n",
    "    name=\"Guardrail Checker\",\n",
    "    instructions=\"Check whether the input message contains a name\",\n",
    "    model=gemini_model,\n",
    "    output_type=NameValidationOutput,\n",
    "                      )\n"
   ]
  },
  {
   "cell_type": "code",
   "execution_count": 34,
   "metadata": {},
   "outputs": [],
   "source": [
    "@input_guardrail\n",
    "async def name_guardrail(ctx, agent, message):\n",
    "    result = await Runner.run(guarail_agent, message, context=ctx.context )\n",
    "    return GuardrailFunctionOutput(output_info=result.final_output, tripwire_triggered=result.final_output.is_there_a_name)"
   ]
  },
  {
   "cell_type": "code",
   "execution_count": 37,
   "metadata": {},
   "outputs": [
    {
     "name": "stdout",
     "output_type": "stream",
     "text": [
      "[RunResult(input='Write a cold email', new_items=[MessageOutputItem(agent=Agent(name='Professional_sales_agent', instructions='Your are a sales agent working for BetaLaunch.\\n\\nIt is a company which is oriented at providing software solutions for businesses such as web applications and mobile applications\\n\\nYour write in a professional and serious tone\\n\\n', prompt=None, handoff_description=None, handoffs=[], model=None, model_settings=ModelSettings(temperature=None, top_p=None, frequency_penalty=None, presence_penalty=None, tool_choice=None, parallel_tool_calls=None, truncation=None, max_tokens=None, reasoning=None, metadata=None, store=None, include_usage=None, extra_query=None, extra_body=None, extra_headers=None, extra_args=None), tools=[], mcp_servers=[], mcp_config={}, input_guardrails=[], output_guardrails=[], output_type=None, hooks=None, tool_use_behavior='run_llm_again', reset_tool_choice=True), raw_item=ResponseOutputMessage(id='msg_685fe5b5dcb0819b93b5ca663878af0006e5822909e9dbf2', content=[ResponseOutputText(annotations=[], text=\"Subject: Transform Your Business with Innovative Software Solutions\\n\\nHi [Recipient's Name],\\n\\nI hope this message finds you well. I'm [Your Name] from BetaLaunch, where we specialize in delivering tailored web and mobile application solutions designed to propel businesses like yours toward greater efficiency and innovation.\\n\\nIn today's fast-paced digital landscape, having robust software solutions is crucial. Whether you're looking to enhance your web presence or streamline operations with intuitive mobile applications, our team is here to help.\\n\\nHere's how BetaLaunch can add value to your business:\\n\\n- **Custom Web Applications**: Drive engagement and empower your online strategy with applications built specifically for your needs.\\n- **Mobile Applications**: Reach your audience on-the-go with seamless and user-friendly mobile solutions.\\n- **End-to-End Support**: From ideation to deployment, we ensure a smooth process and continuous support.\\n\\nI would love to discuss how we can help meet your specific needs. Are you available for a brief call or meeting this week?\\n\\nThank you for considering BetaLaunch. I look forward to the opportunity to support your business growth.\\n\\nWarm regards,\\n\\n[Your Full Name]  \\n[Your Position]  \\nBetaLaunch  \\n[Your Contact Information]  \\n[Company Website URL]\", type='output_text', logprobs=[])], role='assistant', status='completed', type='message'), type='message_output_item')], raw_responses=[ModelResponse(output=[ResponseOutputMessage(id='msg_685fe5b5dcb0819b93b5ca663878af0006e5822909e9dbf2', content=[ResponseOutputText(annotations=[], text=\"Subject: Transform Your Business with Innovative Software Solutions\\n\\nHi [Recipient's Name],\\n\\nI hope this message finds you well. I'm [Your Name] from BetaLaunch, where we specialize in delivering tailored web and mobile application solutions designed to propel businesses like yours toward greater efficiency and innovation.\\n\\nIn today's fast-paced digital landscape, having robust software solutions is crucial. Whether you're looking to enhance your web presence or streamline operations with intuitive mobile applications, our team is here to help.\\n\\nHere's how BetaLaunch can add value to your business:\\n\\n- **Custom Web Applications**: Drive engagement and empower your online strategy with applications built specifically for your needs.\\n- **Mobile Applications**: Reach your audience on-the-go with seamless and user-friendly mobile solutions.\\n- **End-to-End Support**: From ideation to deployment, we ensure a smooth process and continuous support.\\n\\nI would love to discuss how we can help meet your specific needs. Are you available for a brief call or meeting this week?\\n\\nThank you for considering BetaLaunch. I look forward to the opportunity to support your business growth.\\n\\nWarm regards,\\n\\n[Your Full Name]  \\n[Your Position]  \\nBetaLaunch  \\n[Your Contact Information]  \\n[Company Website URL]\", type='output_text', logprobs=[])], role='assistant', status='completed', type='message')], usage=Usage(requests=1, input_tokens=55, input_tokens_details=InputTokensDetails(cached_tokens=0), output_tokens=243, output_tokens_details=OutputTokensDetails(reasoning_tokens=0), total_tokens=298), response_id='resp_685fe5b4d4b8819bb6409fbdcca920c806e5822909e9dbf2')], final_output=\"Subject: Transform Your Business with Innovative Software Solutions\\n\\nHi [Recipient's Name],\\n\\nI hope this message finds you well. I'm [Your Name] from BetaLaunch, where we specialize in delivering tailored web and mobile application solutions designed to propel businesses like yours toward greater efficiency and innovation.\\n\\nIn today's fast-paced digital landscape, having robust software solutions is crucial. Whether you're looking to enhance your web presence or streamline operations with intuitive mobile applications, our team is here to help.\\n\\nHere's how BetaLaunch can add value to your business:\\n\\n- **Custom Web Applications**: Drive engagement and empower your online strategy with applications built specifically for your needs.\\n- **Mobile Applications**: Reach your audience on-the-go with seamless and user-friendly mobile solutions.\\n- **End-to-End Support**: From ideation to deployment, we ensure a smooth process and continuous support.\\n\\nI would love to discuss how we can help meet your specific needs. Are you available for a brief call or meeting this week?\\n\\nThank you for considering BetaLaunch. I look forward to the opportunity to support your business growth.\\n\\nWarm regards,\\n\\n[Your Full Name]  \\n[Your Position]  \\nBetaLaunch  \\n[Your Contact Information]  \\n[Company Website URL]\", input_guardrail_results=[], output_guardrail_results=[], context_wrapper=RunContextWrapper(context=None, usage=Usage(requests=1, input_tokens=55, input_tokens_details=InputTokensDetails(cached_tokens=0), output_tokens=243, output_tokens_details=OutputTokensDetails(reasoning_tokens=0), total_tokens=298)), _last_agent=Agent(name='Professional_sales_agent', instructions='Your are a sales agent working for BetaLaunch.\\n\\nIt is a company which is oriented at providing software solutions for businesses such as web applications and mobile applications\\n\\nYour write in a professional and serious tone\\n\\n', prompt=None, handoff_description=None, handoffs=[], model=None, model_settings=ModelSettings(temperature=None, top_p=None, frequency_penalty=None, presence_penalty=None, tool_choice=None, parallel_tool_calls=None, truncation=None, max_tokens=None, reasoning=None, metadata=None, store=None, include_usage=None, extra_query=None, extra_body=None, extra_headers=None, extra_args=None), tools=[], mcp_servers=[], mcp_config={}, input_guardrails=[], output_guardrails=[], output_type=None, hooks=None, tool_use_behavior='run_llm_again', reset_tool_choice=True)), RunResult(input='Write a cold email', new_items=[MessageOutputItem(agent=Agent(name='Engaging_sales_agent', instructions='Your are a sales agent working for BetaLaunch.\\n\\nIt is a company which is oriented at providing software solutions for businesses such as web applications and mobile applications\\n\\nYour write in a engaging and responsive tone\\n\\n', prompt=None, handoff_description=None, handoffs=[], model=None, model_settings=ModelSettings(temperature=None, top_p=None, frequency_penalty=None, presence_penalty=None, tool_choice=None, parallel_tool_calls=None, truncation=None, max_tokens=None, reasoning=None, metadata=None, store=None, include_usage=None, extra_query=None, extra_body=None, extra_headers=None, extra_args=None), tools=[], mcp_servers=[], mcp_config={}, input_guardrails=[], output_guardrails=[], output_type=None, hooks=None, tool_use_behavior='run_llm_again', reset_tool_choice=True), raw_item=ResponseOutputMessage(id='msg_685fe5b571508198b27bb29121741c09068b3b8f137fb174', content=[ResponseOutputText(annotations=[], text=\"Subject: Unlock New Potential with Cutting-Edge Software Solutions\\n\\nHi [Recipient's Name],\\n\\nI hope this message finds you well! I'm [Your Name] from BetaLaunch, and I'm excited to introduce you to a world of innovative software solutions tailored to elevate your business.\\n\\nAt BetaLaunch, we specialize in crafting top-notch web and mobile applications, designed to streamline operations and enhance user engagement. Whether you're looking to revamp your current system or build something entirely new, our team is here to bring your vision to life.\\n\\nWhy partner with us?\\n\\n- **Customized Solutions:** We understand that every business is unique. Our solutions are tailored to meet your specific needs.\\n- **Expert Team:** With a dedicated team of developers and designers, we ensure high-quality, robust applications.\\n- **Seamless Integration:** Our applications integrate smoothly with existing systems, minimizing disruption.\\n\\nI’d love to discuss how we can help your business thrive. Are you available for a brief call or meeting this week?\\n\\nLooking forward to the possibility of working together!\\n\\nBest regards,\\n\\n[Your Full Name]  \\n[Your Position]  \\nBetaLaunch  \\n[Your Phone Number]  \\n[Your Email Address]  \", type='output_text', logprobs=[])], role='assistant', status='completed', type='message'), type='message_output_item')], raw_responses=[ModelResponse(output=[ResponseOutputMessage(id='msg_685fe5b571508198b27bb29121741c09068b3b8f137fb174', content=[ResponseOutputText(annotations=[], text=\"Subject: Unlock New Potential with Cutting-Edge Software Solutions\\n\\nHi [Recipient's Name],\\n\\nI hope this message finds you well! I'm [Your Name] from BetaLaunch, and I'm excited to introduce you to a world of innovative software solutions tailored to elevate your business.\\n\\nAt BetaLaunch, we specialize in crafting top-notch web and mobile applications, designed to streamline operations and enhance user engagement. Whether you're looking to revamp your current system or build something entirely new, our team is here to bring your vision to life.\\n\\nWhy partner with us?\\n\\n- **Customized Solutions:** We understand that every business is unique. Our solutions are tailored to meet your specific needs.\\n- **Expert Team:** With a dedicated team of developers and designers, we ensure high-quality, robust applications.\\n- **Seamless Integration:** Our applications integrate smoothly with existing systems, minimizing disruption.\\n\\nI’d love to discuss how we can help your business thrive. Are you available for a brief call or meeting this week?\\n\\nLooking forward to the possibility of working together!\\n\\nBest regards,\\n\\n[Your Full Name]  \\n[Your Position]  \\nBetaLaunch  \\n[Your Phone Number]  \\n[Your Email Address]  \", type='output_text', logprobs=[])], role='assistant', status='completed', type='message')], usage=Usage(requests=1, input_tokens=55, input_tokens_details=InputTokensDetails(cached_tokens=0), output_tokens=236, output_tokens_details=OutputTokensDetails(reasoning_tokens=0), total_tokens=291), response_id='resp_685fe5b492308198a7b192ca2d3d010a068b3b8f137fb174')], final_output=\"Subject: Unlock New Potential with Cutting-Edge Software Solutions\\n\\nHi [Recipient's Name],\\n\\nI hope this message finds you well! I'm [Your Name] from BetaLaunch, and I'm excited to introduce you to a world of innovative software solutions tailored to elevate your business.\\n\\nAt BetaLaunch, we specialize in crafting top-notch web and mobile applications, designed to streamline operations and enhance user engagement. Whether you're looking to revamp your current system or build something entirely new, our team is here to bring your vision to life.\\n\\nWhy partner with us?\\n\\n- **Customized Solutions:** We understand that every business is unique. Our solutions are tailored to meet your specific needs.\\n- **Expert Team:** With a dedicated team of developers and designers, we ensure high-quality, robust applications.\\n- **Seamless Integration:** Our applications integrate smoothly with existing systems, minimizing disruption.\\n\\nI’d love to discuss how we can help your business thrive. Are you available for a brief call or meeting this week?\\n\\nLooking forward to the possibility of working together!\\n\\nBest regards,\\n\\n[Your Full Name]  \\n[Your Position]  \\nBetaLaunch  \\n[Your Phone Number]  \\n[Your Email Address]  \", input_guardrail_results=[], output_guardrail_results=[], context_wrapper=RunContextWrapper(context=None, usage=Usage(requests=1, input_tokens=55, input_tokens_details=InputTokensDetails(cached_tokens=0), output_tokens=236, output_tokens_details=OutputTokensDetails(reasoning_tokens=0), total_tokens=291)), _last_agent=Agent(name='Engaging_sales_agent', instructions='Your are a sales agent working for BetaLaunch.\\n\\nIt is a company which is oriented at providing software solutions for businesses such as web applications and mobile applications\\n\\nYour write in a engaging and responsive tone\\n\\n', prompt=None, handoff_description=None, handoffs=[], model=None, model_settings=ModelSettings(temperature=None, top_p=None, frequency_penalty=None, presence_penalty=None, tool_choice=None, parallel_tool_calls=None, truncation=None, max_tokens=None, reasoning=None, metadata=None, store=None, include_usage=None, extra_query=None, extra_body=None, extra_headers=None, extra_args=None), tools=[], mcp_servers=[], mcp_config={}, input_guardrails=[], output_guardrails=[], output_type=None, hooks=None, tool_use_behavior='run_llm_again', reset_tool_choice=True)), RunResult(input='Write a cold email', new_items=[MessageOutputItem(agent=Agent(name='details_oriented_sales_agent', instructions='Your are a sales agent working for BetaLaunch.\\n\\nIt is a company which is oriented at providing software solutions for businesses such as web applications and mobile applications\\n\\nYour write in a concise and detailed oriented tone. \\n\\n', prompt=None, handoff_description=None, handoffs=[], model=None, model_settings=ModelSettings(temperature=None, top_p=None, frequency_penalty=None, presence_penalty=None, tool_choice=None, parallel_tool_calls=None, truncation=None, max_tokens=None, reasoning=None, metadata=None, store=None, include_usage=None, extra_query=None, extra_body=None, extra_headers=None, extra_args=None), tools=[], mcp_servers=[], mcp_config={}, input_guardrails=[], output_guardrails=[], output_type=None, hooks=None, tool_use_behavior='run_llm_again', reset_tool_choice=True), raw_item=ResponseOutputMessage(id='msg_685fe5b5b680819b810e54f65fa089da0156f5574f86cdc4', content=[ResponseOutputText(annotations=[], text=\"Subject: Transform Your Business with Cutting-Edge Software Solutions\\n\\nHi [Recipient's Name],\\n\\nI hope this message finds you well. I'm [Your Name] from BetaLaunch, where we specialize in crafting tailored software solutions to drive business growth and efficiency.\\n\\nWhether you're looking to elevate your online presence with a web application or engage customers through a dynamic mobile app, we've got you covered. Our team of experts is dedicated to turning your vision into reality with precision and excellence.\\n\\nLet’s explore how we can optimize your operations and enhance your customer experience. Are you available for a brief call this week to discuss your goals?\\n\\nLooking forward to the opportunity to assist your business.\\n\\nBest regards,\\n\\n[Your Name]  \\n[Your Position]  \\nBetaLaunch  \\n[Your Contact Information]\", type='output_text', logprobs=[])], role='assistant', status='completed', type='message'), type='message_output_item')], raw_responses=[ModelResponse(output=[ResponseOutputMessage(id='msg_685fe5b5b680819b810e54f65fa089da0156f5574f86cdc4', content=[ResponseOutputText(annotations=[], text=\"Subject: Transform Your Business with Cutting-Edge Software Solutions\\n\\nHi [Recipient's Name],\\n\\nI hope this message finds you well. I'm [Your Name] from BetaLaunch, where we specialize in crafting tailored software solutions to drive business growth and efficiency.\\n\\nWhether you're looking to elevate your online presence with a web application or engage customers through a dynamic mobile app, we've got you covered. Our team of experts is dedicated to turning your vision into reality with precision and excellence.\\n\\nLet’s explore how we can optimize your operations and enhance your customer experience. Are you available for a brief call this week to discuss your goals?\\n\\nLooking forward to the opportunity to assist your business.\\n\\nBest regards,\\n\\n[Your Name]  \\n[Your Position]  \\nBetaLaunch  \\n[Your Contact Information]\", type='output_text', logprobs=[])], role='assistant', status='completed', type='message')], usage=Usage(requests=1, input_tokens=57, input_tokens_details=InputTokensDetails(cached_tokens=0), output_tokens=154, output_tokens_details=OutputTokensDetails(reasoning_tokens=0), total_tokens=211), response_id='resp_685fe5b4ada8819ba6b21d182edd15b20156f5574f86cdc4')], final_output=\"Subject: Transform Your Business with Cutting-Edge Software Solutions\\n\\nHi [Recipient's Name],\\n\\nI hope this message finds you well. I'm [Your Name] from BetaLaunch, where we specialize in crafting tailored software solutions to drive business growth and efficiency.\\n\\nWhether you're looking to elevate your online presence with a web application or engage customers through a dynamic mobile app, we've got you covered. Our team of experts is dedicated to turning your vision into reality with precision and excellence.\\n\\nLet’s explore how we can optimize your operations and enhance your customer experience. Are you available for a brief call this week to discuss your goals?\\n\\nLooking forward to the opportunity to assist your business.\\n\\nBest regards,\\n\\n[Your Name]  \\n[Your Position]  \\nBetaLaunch  \\n[Your Contact Information]\", input_guardrail_results=[], output_guardrail_results=[], context_wrapper=RunContextWrapper(context=None, usage=Usage(requests=1, input_tokens=57, input_tokens_details=InputTokensDetails(cached_tokens=0), output_tokens=154, output_tokens_details=OutputTokensDetails(reasoning_tokens=0), total_tokens=211)), _last_agent=Agent(name='details_oriented_sales_agent', instructions='Your are a sales agent working for BetaLaunch.\\n\\nIt is a company which is oriented at providing software solutions for businesses such as web applications and mobile applications\\n\\nYour write in a concise and detailed oriented tone. \\n\\n', prompt=None, handoff_description=None, handoffs=[], model=None, model_settings=ModelSettings(temperature=None, top_p=None, frequency_penalty=None, presence_penalty=None, tool_choice=None, parallel_tool_calls=None, truncation=None, max_tokens=None, reasoning=None, metadata=None, store=None, include_usage=None, extra_query=None, extra_body=None, extra_headers=None, extra_args=None), tools=[], mcp_servers=[], mcp_config={}, input_guardrails=[], output_guardrails=[], output_type=None, hooks=None, tool_use_behavior='run_llm_again', reset_tool_choice=True))]\n"
     ]
    }
   ],
   "source": [
    "sales_manager_with_guardrails = Agent(\n",
    "    name=\"Sales Manager with Guardrails\",\n",
    "    instructions=sales_manager_instructions,\n",
    "    tools=tools,\n",
    "    handoffs=handoffs,\n",
    "    input_guardrails=[name_guardrail],\n",
    ")\n",
    "message = \"Send out a cold sales email addressed to Dear CEO from Head of Business Development\"\n",
    "\n",
    "with trace (\"SDR with Guardrai\"):\n",
    "    result = await Runner.run(sales_manager_with_guardrails,message)\n",
    "    print(results)"
   ]
  }
 ],
 "metadata": {
  "kernelspec": {
   "display_name": "venv",
   "language": "python",
   "name": "python3"
  },
  "language_info": {
   "codemirror_mode": {
    "name": "ipython",
    "version": 3
   },
   "file_extension": ".py",
   "mimetype": "text/x-python",
   "name": "python",
   "nbconvert_exporter": "python",
   "pygments_lexer": "ipython3",
   "version": "3.12.1"
  }
 },
 "nbformat": 4,
 "nbformat_minor": 2
}
