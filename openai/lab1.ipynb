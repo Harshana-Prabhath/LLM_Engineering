{
 "cells": [
  {
   "cell_type": "code",
   "execution_count": 53,
   "metadata": {},
   "outputs": [],
   "source": [
    "from dotenv import load_dotenv\n",
    "from agents import Agent, Runner, trace, function_tool\n",
    "import asyncio\n",
    "import os\n",
    "import sendgrid\n",
    "from sendgrid.helpers.mail import Mail, Email, To, Content\n",
    "from typing import Dict\n",
    " \n",
    "\n",
    "\n",
    "\n",
    "\n"
   ]
  },
  {
   "cell_type": "code",
   "execution_count": null,
   "metadata": {},
   "outputs": [],
   "source": []
  },
  {
   "cell_type": "code",
   "execution_count": 54,
   "metadata": {},
   "outputs": [
    {
     "data": {
      "text/plain": [
       "True"
      ]
     },
     "execution_count": 54,
     "metadata": {},
     "output_type": "execute_result"
    }
   ],
   "source": [
    "load_dotenv(override=True)"
   ]
  },
  {
   "cell_type": "code",
   "execution_count": 55,
   "metadata": {},
   "outputs": [],
   "source": [
    "instructions_1  = \"\"\"Your are a sales agent working for BetaLaunch.\\n\n",
    "It is a company which is oriented at providing software solutions for businesses such as web applications and mobile applications\\n\n",
    "Your write in a professional and serious tone\\n\n",
    "\"\"\"\n",
    "\n",
    "instructions_2 = \"\"\"Your are a sales agent working for BetaLaunch.\\n\n",
    "It is a company which is oriented at providing software solutions for businesses such as web applications and mobile applications\\n\n",
    "Your write in a engaging and responsive tone\\n\n",
    "\"\"\"\n",
    "\n",
    "instructions_3 = \"\"\"Your are a sales agent working for BetaLaunch.\\n\n",
    "It is a company which is oriented at providing software solutions for businesses such as web applications and mobile applications\\n\n",
    "Your write in a concise and detailed oriented tone. \\n\n",
    "\"\"\"\n"
   ]
  },
  {
   "cell_type": "code",
   "execution_count": 56,
   "metadata": {},
   "outputs": [],
   "source": [
    "sales_agent_1 = Agent(name=\"Professional_sales_agent\", instructions=instructions_1,)\n",
    "sales_agent_2 = Agent(name=\"Engaging_sales_agent\", instructions=instructions_2)\n",
    "sales_agent_3 = Agent(name=\"details_oriented_sales_agent\", instructions=instructions_3)"
   ]
  },
  {
   "cell_type": "code",
   "execution_count": null,
   "metadata": {},
   "outputs": [],
   "source": []
  },
  {
   "cell_type": "code",
   "execution_count": 57,
   "metadata": {},
   "outputs": [],
   "source": [
    "message = \"Write a cold email\"\n",
    "\n",
    "with trace(\"Execution of multiple agents\"):\n",
    "    results = await asyncio.gather(\n",
    "        Runner.run(sales_agent_1, message),\n",
    "        Runner.run(sales_agent_2, message),\n",
    "        Runner.run(sales_agent_3, message),\n",
    "    )\n",
    "    output = [result.final_output for result in results];\n"
   ]
  },
  {
   "cell_type": "code",
   "execution_count": 58,
   "metadata": {},
   "outputs": [],
   "source": [
    "evaluation_agent_instructions = f\"\"\"\n",
    " You act as an evaluation agent, who's job is to evaluate the array of provided emails and pick the best one that a user might reply.\\n\n",
    " Do not give any explanations, just reply with the selected email\\n\n",
    "\"\"\""
   ]
  },
  {
   "cell_type": "code",
   "execution_count": 59,
   "metadata": {},
   "outputs": [
    {
     "name": "stdout",
     "output_type": "stream",
     "text": [
      "\"Subject: Transform Your Business with Cutting-Edge Software Solutions\n",
      "\n",
      "Hi [Recipient's Name],\n",
      "\n",
      "I hope this email finds you well. I'm [Your Name] from BetaLaunch, where our focus is on delivering tailored software solutions to drive business success.\n",
      "\n",
      "Are you looking to enhance your operations or expand your digital presence? We specialize in creating custom web and mobile applications designed to meet your specific needs.\n",
      "\n",
      "Here’s how we can help:\n",
      "- **Tailored Solutions:** Customized applications aligning perfectly with your business goals.\n",
      "- **User-Friendly Designs:** Intuitive interfaces that enhance user engagement.\n",
      "- **Scalable Platforms:** Built to grow as your business expands.\n",
      "\n",
      "Let’s schedule a quick call to discuss how we can support your objectives. Are you available for a brief chat this week?\n",
      "\n",
      "Looking forward to the possibility of working together.\n",
      "\n",
      "Best regards,\n",
      "\n",
      "[Your Full Name]  \n",
      "[Your Position]  \n",
      "BetaLaunch  \n",
      "[Your Contact Information]\"\n"
     ]
    }
   ],
   "source": [
    "evaluation_agent = Agent(name=\"evaluation agnet\", instructions=evaluation_agent_instructions);\n",
    "\n",
    "evaluation_message =f\"The list of emails: \\\\n {output}\"\n",
    "\n",
    "evaluation_result = await Runner.run(evaluation_agent,evaluation_message )\n",
    "\n",
    "print(evaluation_result.final_output);\n",
    "\n",
    "\n"
   ]
  },
  {
   "cell_type": "code",
   "execution_count": 60,
   "metadata": {},
   "outputs": [],
   "source": [
    "@function_tool\n",
    "def send_email(body: str):\n",
    "    \"\"\"Send an email with the given body to a reepient\"\"\"\n",
    "    try:\n",
    "        sg = sendgrid.SendGridAPIClient(os.environ.get('SENDGRID_API_KEY'))\n",
    "        from_email = Email('pharshana719@gmail.com')\n",
    "        to_email = To('isankadatadownload@gmail.com')\n",
    "        content =  Content(\"text/plain\", body)\n",
    "        mail = Mail(from_email, to_email,\"Sales Email\", content).get()\n",
    "        response = sg.client.mail.send.post(request_body = mail)\n",
    "        return {\"Status\":\"Success\"}\n",
    "\n",
    "        \n",
    "    except Exception as e :\n",
    "        print(e.message)\n",
    "    "
   ]
  },
  {
   "cell_type": "code",
   "execution_count": 61,
   "metadata": {},
   "outputs": [
    {
     "data": {
      "text/plain": [
       "FunctionTool(name='send_email', description='Send an email with the given body to a reepient', params_json_schema={'properties': {'body': {'title': 'Body', 'type': 'string'}}, 'required': ['body'], 'title': 'send_email_args', 'type': 'object', 'additionalProperties': False}, on_invoke_tool=<function function_tool.<locals>._create_function_tool.<locals>._on_invoke_tool at 0x0000023761E3BE20>, strict_json_schema=True, is_enabled=True)"
      ]
     },
     "execution_count": 61,
     "metadata": {},
     "output_type": "execute_result"
    }
   ],
   "source": [
    "send_email"
   ]
  },
  {
   "cell_type": "code",
   "execution_count": 62,
   "metadata": {},
   "outputs": [],
   "source": [
    "Description = \"Write a cold email\"\n",
    "\n",
    "tool1 = sales_agent_1.as_tool(tool_name = \"Write_professional_emails\", tool_description= Description)\n",
    "tool2 = sales_agent_2.as_tool(tool_name = \"Write_user_engaging_emails\", tool_description=Description)\n",
    "tool3  = sales_agent_3.as_tool(tool_name = \"Write_details_oriented_emails\", tool_description=Description)"
   ]
  },
  {
   "cell_type": "code",
   "execution_count": 63,
   "metadata": {},
   "outputs": [
    {
     "data": {
      "text/plain": [
       "FunctionTool(name='Write_professional_emails', description='Write a cold email', params_json_schema={'properties': {'input': {'title': 'Input', 'type': 'string'}}, 'required': ['input'], 'title': 'Write_professional_emails_args', 'type': 'object', 'additionalProperties': False}, on_invoke_tool=<function function_tool.<locals>._create_function_tool.<locals>._on_invoke_tool at 0x0000023761E6C180>, strict_json_schema=True, is_enabled=True)"
      ]
     },
     "execution_count": 63,
     "metadata": {},
     "output_type": "execute_result"
    }
   ],
   "source": [
    "tool1"
   ]
  },
  {
   "cell_type": "code",
   "execution_count": 64,
   "metadata": {},
   "outputs": [],
   "source": [
    "tools = [tool1, tool2,tool3, send_email]"
   ]
  },
  {
   "cell_type": "code",
   "execution_count": 65,
   "metadata": {},
   "outputs": [
    {
     "ename": "MaxTurnsExceeded",
     "evalue": "Max turns (10) exceeded",
     "output_type": "error",
     "traceback": [
      "\u001b[31m---------------------------------------------------------------------------\u001b[39m",
      "\u001b[31mMaxTurnsExceeded\u001b[39m                          Traceback (most recent call last)",
      "\u001b[36mCell\u001b[39m\u001b[36m \u001b[39m\u001b[32mIn[65]\u001b[39m\u001b[32m, line 15\u001b[39m\n\u001b[32m     11\u001b[39m message = \u001b[33m\"\u001b[39m\u001b[33mSend a cold sales email addressed to \u001b[39m\u001b[33m'\u001b[39m\u001b[33mDear CEO\u001b[39m\u001b[33m'\u001b[39m\u001b[33m\"\u001b[39m\n\u001b[32m     14\u001b[39m \u001b[38;5;28;01mwith\u001b[39;00m trace(\u001b[33m\"\u001b[39m\u001b[33mSales manager\u001b[39m\u001b[33m\"\u001b[39m):\n\u001b[32m---> \u001b[39m\u001b[32m15\u001b[39m     manager_resulst = \u001b[38;5;28;01mawait\u001b[39;00m Runner.run(sales_manager, message)\n\u001b[32m     16\u001b[39m     \u001b[38;5;28mprint\u001b[39m(manager_resulst)\n",
      "\u001b[36mFile \u001b[39m\u001b[32md:\\LLM_Engineering\\My_Projects\\venv\\Lib\\site-packages\\agents\\run.py:215\u001b[39m, in \u001b[36mRunner.run\u001b[39m\u001b[34m(cls, starting_agent, input, context, max_turns, hooks, run_config, previous_response_id)\u001b[39m\n\u001b[32m    207\u001b[39m \u001b[38;5;28;01mif\u001b[39;00m current_turn > max_turns:\n\u001b[32m    208\u001b[39m     _error_tracing.attach_error_to_span(\n\u001b[32m    209\u001b[39m         current_span,\n\u001b[32m    210\u001b[39m         SpanError(\n\u001b[32m   (...)\u001b[39m\u001b[32m    213\u001b[39m         ),\n\u001b[32m    214\u001b[39m     )\n\u001b[32m--> \u001b[39m\u001b[32m215\u001b[39m     \u001b[38;5;28;01mraise\u001b[39;00m MaxTurnsExceeded(\u001b[33mf\u001b[39m\u001b[33m\"\u001b[39m\u001b[33mMax turns (\u001b[39m\u001b[38;5;132;01m{\u001b[39;00mmax_turns\u001b[38;5;132;01m}\u001b[39;00m\u001b[33m) exceeded\u001b[39m\u001b[33m\"\u001b[39m)\n\u001b[32m    217\u001b[39m logger.debug(\n\u001b[32m    218\u001b[39m     \u001b[33mf\u001b[39m\u001b[33m\"\u001b[39m\u001b[33mRunning agent \u001b[39m\u001b[38;5;132;01m{\u001b[39;00mcurrent_agent.name\u001b[38;5;132;01m}\u001b[39;00m\u001b[33m (turn \u001b[39m\u001b[38;5;132;01m{\u001b[39;00mcurrent_turn\u001b[38;5;132;01m}\u001b[39;00m\u001b[33m)\u001b[39m\u001b[33m\"\u001b[39m,\n\u001b[32m    219\u001b[39m )\n\u001b[32m    221\u001b[39m \u001b[38;5;28;01mif\u001b[39;00m current_turn == \u001b[32m1\u001b[39m:\n",
      "\u001b[31mMaxTurnsExceeded\u001b[39m: Max turns (10) exceeded"
     ]
    }
   ],
   "source": [
    "sales_manager_instructions = \"\"\"Your are are sales manager who's working for BetaLaunch. You use the tools given to generate cold sales emails\\n\n",
    "        You do not generate emails by yourself, instead you always use the tools\\n\n",
    "        You tries all the three types of email generating tools and pickup the best one by comparing the results of those three tools\\n \n",
    "        The you select the email sending tool which is send_email yo send the best email. Always remember you are only sending the best selected email\\n \n",
    "\n",
    " \"\"\"\n",
    "\n",
    "sales_manager = Agent(name=\"Sales Manger\", instructions=sales_manager_instructions, tools=tools, model=\"gpt-4o-mini\")\n",
    "\n",
    "\n",
    "message = \"Send a cold sales email addressed to 'Dear CEO'\"\n",
    "\n",
    "\n",
    "with trace(\"Sales manager\"):\n",
    "    manager_resulst = await Runner.run(sales_manager, message)\n",
    "    print(manager_resulst)\n",
    "\n"
   ]
  },
  {
   "cell_type": "code",
   "execution_count": 66,
   "metadata": {},
   "outputs": [],
   "source": [
    "@function_tool\n",
    "def send_html_email(subject: str, html_body:str) -> Dict[str, str] :\n",
    "    \"\"\"Send out sales emails with a give subet and formatted \"\"\"\n",
    "    sg = sendgrid.SendGridAPIClient(api_key= os.environ.get('SENDGRID_API_KEY'))\n",
    "    from_email = Email('pharshana719@gmail.com')\n",
    "    to_email = To('isankadatadownload@gmail.com')\n",
    "    content = Content(\"text/html\", html_body)\n",
    "    mail = Mail(from_email, to_email, subject, content).get()\n",
    "    response = sg.client.mail.send.post(request_body=mail)\n",
    "    return {\"status\":\"success\"}\n",
    "\n",
    "    "
   ]
  },
  {
   "cell_type": "code",
   "execution_count": 67,
   "metadata": {},
   "outputs": [],
   "source": [
    "\n",
    "subject_agent_instructions = \"\"\"Your are  capable of generating an appropriate subject for a given email message that the user is likely to response\"\"\"\n",
    "\n",
    "html_agent_instructions = \"\"\"Your are capable of converting a text email body in to a HTML email body\\n \n",
    "You are given a html body which might have some markdown and you need to convert it to an HTML email body with simple, clear, compelling layout and design.\n",
    "\"\"\"\n",
    "\n",
    "subject_agent = Agent(name= \"Email_Subject_Agent\",instructions=subject_agent_instructions)\n",
    "subject_tool = subject_agent.as_tool(tool_name=\"subject_writer\", tool_description=\"Write an appropriate subejct for the sales email\")\n",
    "\n",
    "html_agent = Agent(name=\"HTML_converter\", instructions=html_agent_instructions)\n",
    "html_tool = html_agent.as_tool(tool_name=\"HTML_converter_tool\",tool_description=\"Convert the text email body in to HTML formatted email body\")\n"
   ]
  },
  {
   "cell_type": "code",
   "execution_count": 68,
   "metadata": {},
   "outputs": [],
   "source": [
    "tools = [subject_tool, html_tool, send_html_email]"
   ]
  },
  {
   "cell_type": "code",
   "execution_count": 69,
   "metadata": {},
   "outputs": [],
   "source": [
    "instructions =\"You are an email formatter and sender. You receive the body of an email to be sent. \\\n",
    "You first use the subject_writer tool to write a subject for the email, then use the html_converter tool to convert the body to HTML. \\\n",
    "Finally, you use the send_html_email tool to send the email with the subject and HTML body.\"\n",
    "\n",
    "email_agent = Agent(name=\"Email_sender\",\n",
    "                     instructions=instructions,\n",
    "                     model=\"gpt-4o-mini\",\n",
    "                     tools=tools,\n",
    "                     handoff_description=\"Convert an email to HTML and send it\")"
   ]
  },
  {
   "cell_type": "code",
   "execution_count": 74,
   "metadata": {},
   "outputs": [],
   "source": [
    "sales_manager_instructions = \"\"\"You are a sales manager working for BetaLaunch. You use tools given to generate sales emails\\n \n",
    "You never generate emails by yourself, instead you use tools. You try all the three email generating tools and pick up the best response among them\\n \n",
    "You can use a tool more than once if a tool did not provide and appropriate email body. Then you select the best email body among them that a user will\n",
    "most likeyly to reply to.\\n After selecting the best email body you handoff to the Email Manager Agent to format and send the email. \n",
    "\n",
    "\"\"\"\n",
    "\n",
    "new_tools_list = [tool1, tool2, tool3]\n",
    "handoffs = [email_agent]\n",
    "\n",
    "new_sales_manager = Agent(\n",
    "    name=\"New_sales_manager\",\n",
    "    instructions=sales_manager_instructions,\n",
    "    tools=new_tools_list,\n",
    "    handoffs=handoffs,\n",
    "    model=\"gpt-4o-mini\"\n",
    ")\n",
    "message = \"Send out a cold sales email addressed to Dear CEO from Alice\"\n",
    "\n",
    "with trace(\"Automated SDR\"):\n",
    "    result = await Runner.run(new_sales_manager, message);"
   ]
  }
 ],
 "metadata": {
  "kernelspec": {
   "display_name": "venv",
   "language": "python",
   "name": "python3"
  },
  "language_info": {
   "codemirror_mode": {
    "name": "ipython",
    "version": 3
   },
   "file_extension": ".py",
   "mimetype": "text/x-python",
   "name": "python",
   "nbconvert_exporter": "python",
   "pygments_lexer": "ipython3",
   "version": "3.12.1"
  }
 },
 "nbformat": 4,
 "nbformat_minor": 2
}
