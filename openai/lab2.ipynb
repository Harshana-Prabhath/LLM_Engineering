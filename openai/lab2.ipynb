{
 "cells": [
  {
   "cell_type": "code",
   "execution_count": 44,
   "id": "d2b6588e",
   "metadata": {},
   "outputs": [],
   "source": [
    "from pydantic import BaseModel, Field;\n",
    "from agents import Agent, trace, Runner, function_tool, WebSearchTool\n",
    "from agents.model_settings import ModelSettings\n",
    "import sendgrid\n",
    "import os \n",
    "from sendgrid.helpers.mail import Mail, Email, To, Content\n",
    "from typing import Dict\n",
    "from IPython.display import display, Markdown\n",
    "import asyncio"
   ]
  },
  {
   "cell_type": "code",
   "execution_count": 45,
   "id": "f173571d",
   "metadata": {},
   "outputs": [],
   "source": [
    "HOW_MANY_SEARCHES = 1\n",
    "\n",
    "INSTRUCTIONS = f\"\"\"You are a helpful research assistance. When you are given with a query your job is to come up with a set of web searches that will\n",
    "extract the most revelant information from the web related to the query. Provide {HOW_MANY_SEARCHES} web searches the best describe the query.\n",
    "\"\"\""
   ]
  },
  {
   "cell_type": "code",
   "execution_count": 46,
   "id": "f51cfd9c",
   "metadata": {},
   "outputs": [],
   "source": [
    "class WebSearchItem(BaseModel):\n",
    "    web_search_term : str  = Field(description=\"This is the search term that is used to search the web\")\n",
    "    reason : str = Field(description=\"Your reason why the search term is relevant\")\n",
    "\n",
    "\n",
    "class WebSearchPlan(BaseModel):\n",
    "    searches: list[WebSearchItem] = Field(description=\"A list of web searches to best answer the query\")"
   ]
  },
  {
   "cell_type": "code",
   "execution_count": 47,
   "id": "867fc1a6",
   "metadata": {},
   "outputs": [],
   "source": [
    "planner_agent = Agent(\n",
    "    name= \"Planner Agent\",\n",
    "    instructions=INSTRUCTIONS,\n",
    "    output_type=WebSearchPlan,\n",
    "    model=\"gpt-4o-mini\",\n",
    ")"
   ]
  },
  {
   "cell_type": "code",
   "execution_count": 48,
   "id": "3e6dd80f",
   "metadata": {},
   "outputs": [],
   "source": [
    "message = \"Latest Ai frameworks in 2025\""
   ]
  },
  {
   "cell_type": "code",
   "execution_count": null,
   "id": "b68b12e0",
   "metadata": {},
   "outputs": [],
   "source": []
  },
  {
   "cell_type": "code",
   "execution_count": 49,
   "id": "da796c1e",
   "metadata": {},
   "outputs": [],
   "source": [
    "@function_tool\n",
    "def send_email(subject:str, html_body:str) -> Dict[str,str]:\n",
    "    sg = sendgrid.SendGridAPIClient(api_key= os.environ.get('SENDGRID_API_KEY'))\n",
    "    to_email = To('kasunkalharaweather@gmail.com')\n",
    "    from_email = Email('pharshana719@gmail.com')\n",
    "    content = Content(\"text/html\",html_body)\n",
    "    mail = Mail(from_email,to_email, subject,content).get()\n",
    "    response = sg.client.mail.send.post(request_body=mail)\n",
    "    return {\"status\":\"success\"}\n",
    "\n"
   ]
  },
  {
   "cell_type": "code",
   "execution_count": 50,
   "id": "93e8271f",
   "metadata": {},
   "outputs": [],
   "source": [
    "email_agent_instructions = f\"\"\"You are able to send nicely formatted HTML email based on a detailed report\n",
    "You will be provided with a detailed report. You shoud use the email sending tool that is provided and send one email providing the \n",
    "report converted into clean, well presented HTML with an appropriate subject line.\n",
    "\"\"\"\n",
    "\n",
    "email_agent = Agent(\n",
    "    name=\"email agent\",\n",
    "    tools=[send_email],\n",
    "    model=\"gpt-4o-mini\",\n",
    "    instructions=email_agent_instructions,\n",
    "  \n",
    ")"
   ]
  },
  {
   "cell_type": "code",
   "execution_count": 51,
   "id": "d104aacf",
   "metadata": {},
   "outputs": [],
   "source": [
    "INSTRUCTIONS = \"You are a research assistant. Given a search term, you search the web for that term and \\\n",
    "produce a concise summary of the results. The summary must 2-3 paragraphs and less than 300 \\\n",
    "words. Capture the main points. Write succintly, no need to have complete sentences or good \\\n",
    "grammar. This will be consumed by someone synthesizing a report, so it's vital you capture the \\\n",
    "essence and ignore any fluff. Do not include any additional commentary other than the summary itself.\"\n",
    "\n",
    "\n",
    "search_agent = Agent(\n",
    "    name=\"web search agent\",\n",
    "    model=\"gpt-4o-mini\",\n",
    "    instructions=INSTRUCTIONS,\n",
    "    tools=[WebSearchTool(search_context_size=\"low\")],\n",
    "    model_settings=ModelSettings(tool_choice=\"required\")\n",
    "\n",
    "\n",
    ")"
   ]
  },
  {
   "cell_type": "code",
   "execution_count": 52,
   "id": "72e7eb58",
   "metadata": {},
   "outputs": [],
   "source": [
    "\n",
    "writer_agent_instructions = f\"\"\"You are a senior researcher tasked withy writing a cohesive research report for a research query\n",
    "You will be provided with the original query, and some initial reseaerch done by a research assistant\\n \n",
    "You should first come up with an outline for the report that describes the structure and flow of the report. Then, generate the report and return that as your final output.\\n\n",
    "The final output should be in markdown format, and it should be lengthy and detailed. Aim for 5-10 pages of content, at least 1000 words.\n",
    "\"\"\"\n",
    "\n",
    "class ReportData(BaseModel):\n",
    "    short_summary: str = Field(description=\"A short 2-3 sentence summary of the findings.\")\n",
    "\n",
    "    markdown_report: str = Field(description=\"The final report\")\n",
    "\n",
    "    follow_up_questions: list[str] = Field(description=\"Suggested topics to research further\")\n",
    "\n",
    "\n",
    "report_writer_agent = Agent(\n",
    "    name=\"report writing agent\",\n",
    "    instructions=writer_agent_instructions,\n",
    "    model=\"gpt-4o-mini\",\n",
    "    output_type=ReportData,\n",
    "\n",
    ")\n"
   ]
  },
  {
   "cell_type": "code",
   "execution_count": 53,
   "id": "aab579c5",
   "metadata": {},
   "outputs": [],
   "source": [
    "async def plan_search(query:str):\n",
    "    \"\"\" Use the planner_agent to plan which searches to run for the query \"\"\"\n",
    "    print(\"Planing Searches\")\n",
    "    result = await Runner.run(planner_agent, f\"Query: {query}\")\n",
    "    print(\"Will perform  {len(result.final_output.searches)} searches\")\n",
    "    return result.final_output\n",
    "\n",
    "async def perform_searches(search_plan : WebSearchPlan):\n",
    "    \n",
    "    tasks = [asyncio.create_task(search(item)) for item in search_plan.searches]\n",
    "    print(\"Finished searching\")\n",
    "    results = asyncio.gather(*tasks)\n",
    "    return results\n",
    "\n",
    "\n",
    "async def search(search_item: WebSearchItem):\n",
    "    \"\"\" Use the search agent to run a web search for each item in the search plan \"\"\"\n",
    "    input = f\"Search term : {search_item.web_search_term}\\n Reason for searching :{search_item.reason} \"\n",
    "    result = await Runner.run(search_agent, input)\n",
    "    return result.final_output\n",
    "\n",
    "\n",
    "\n"
   ]
  },
  {
   "cell_type": "code",
   "execution_count": 54,
   "id": "0625a757",
   "metadata": {},
   "outputs": [],
   "source": [
    "async def write_report(query : str, search_results : list[str]):\n",
    "    \"\"\" Use the writer agent to write a report based on the search results\"\"\"\n",
    "    print(\"Thinking about report...\")\n",
    "    input = f\"search query : {query}\\n Summarised search results: {search_results}\"\n",
    "    result = await Runner.run(report_writer_agent,input)\n",
    "    return result.final_output\n",
    "\n",
    "async def send_email_func(report : ReportData):\n",
    "\n",
    "    result = await Runner.run(email_agent, report.markdown_report)\n",
    "    print(\"Email sent\")\n",
    "    return report;\n",
    "    "
   ]
  },
  {
   "cell_type": "code",
   "execution_count": 55,
   "id": "648335c8",
   "metadata": {},
   "outputs": [
    {
     "name": "stdout",
     "output_type": "stream",
     "text": [
      "Starting Research\n",
      "Planing Searches\n",
      "Will perform  {len(result.final_output.searches)} searches\n",
      "Finished searching\n",
      "Thinking about report...\n",
      "Email sent\n",
      "Done and Dusted\n"
     ]
    }
   ],
   "source": [
    "query = \"Latest AI frameworks in 2025\"\n",
    "\n",
    "with trace(\"report_generation_and_send\"):\n",
    "    print(\"Starting Research\")\n",
    "    search_plan = await plan_search(query=query)\n",
    "    search_results = await perform_searches(search_plan=search_plan)\n",
    "    report = await write_report(query=query, search_results=search_results)\n",
    "    result = await send_email_func(report=report)\n",
    "    print(\"Done and Dusted\");\n",
    "\n",
    "    "
   ]
  }
 ],
 "metadata": {
  "kernelspec": {
   "display_name": "venv",
   "language": "python",
   "name": "python3"
  },
  "language_info": {
   "codemirror_mode": {
    "name": "ipython",
    "version": 3
   },
   "file_extension": ".py",
   "mimetype": "text/x-python",
   "name": "python",
   "nbconvert_exporter": "python",
   "pygments_lexer": "ipython3",
   "version": "3.12.1"
  }
 },
 "nbformat": 4,
 "nbformat_minor": 5
}
